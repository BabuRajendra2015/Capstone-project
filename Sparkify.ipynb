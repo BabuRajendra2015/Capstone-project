{
 "cells": [
  {
   "cell_type": "markdown",
   "metadata": {},
   "source": [
    "# Sparkify Project Workspace\n",
    "This workspace contains a tiny subset (128MB) of the full dataset available (12GB). Feel free to use this workspace to build your project, or to explore a smaller subset with Spark before deploying your cluster on the cloud. Instructions for setting up your Spark cluster is included in the last lesson of the Extracurricular Spark Course content.\n",
    "\n",
    "You can follow the steps below to guide your data analysis and model building portion of this project."
   ]
  },
  {
   "cell_type": "code",
   "execution_count": 14,
   "metadata": {},
   "outputs": [],
   "source": [
    "# import libraries\n",
    "import os\n",
    "\n",
    "from pyspark.sql import SparkSession;\n",
    "from pyspark.sql.functions import isnan,count,when,col, concat, desc, explode, lit, min, max, split, udf, isnull;\n",
    "from pyspark.sql.types import IntegerType,LongType;\n",
    "\n",
    "from pyspark.sql import Window\n",
    "from pyspark.sql.functions import sum as Fsum\n",
    "from pyspark.ml.feature import RegexTokenizer, CountVectorizer,IDF, StringIndexer,VectorAssembler, Normalizer, StandardScaler;\n",
    "from pyspark.ml import Pipeline;\n",
    "from pyspark.ml.classification import LogisticRegression, RandomForestClassifier, GBTClassifier,DecisionTreeClassifier,NaiveBayes;\n",
    "from pyspark.ml.evaluation import MulticlassClassificationEvaluator;\n",
    "\n",
    "import matplotlib.pyplot as plt;\n",
    "import pandas as pd;\n",
    "import seaborn as sns;\n",
    "import numpy as np;"
   ]
  },
  {
   "cell_type": "code",
   "execution_count": 15,
   "metadata": {},
   "outputs": [
    {
     "name": "stdout",
     "output_type": "stream",
     "text": [
      "spark session created\n"
     ]
    }
   ],
   "source": [
    "# create a Spark session\n",
    "spark = SparkSession\\\n",
    "                    .builder\\\n",
    "                    .master('local')\\\n",
    "                    .appName(\"Sparkify\")\\\n",
    "                    .getOrCreate();\n",
    "print(\"spark session created\")"
   ]
  },
  {
   "cell_type": "markdown",
   "metadata": {},
   "source": [
    "# Load and Clean Dataset\n",
    "In this workspace, the mini-dataset file is `mini_sparkify_event_data.json`. Load and clean the dataset, checking for invalid or missing data - for example, records without userids or sessionids. "
   ]
  },
  {
   "cell_type": "code",
   "execution_count": 16,
   "metadata": {},
   "outputs": [
    {
     "data": {
      "text/plain": [
       "DataFrame[artist: string, auth: string, firstName: string, gender: string, itemInSession: bigint, lastName: string, length: double, level: string, location: string, method: string, page: string, registration: bigint, sessionId: bigint, song: string, status: bigint, ts: bigint, userAgent: string, userId: string]"
      ]
     },
     "execution_count": 16,
     "metadata": {},
     "output_type": "execute_result"
    }
   ],
   "source": [
    "# loading the data and persisting it\n",
    "df_user_interactions = spark.read.json('mini_sparkify_event_data.json');\n",
    "df_user_interactions.persist()"
   ]
  },
  {
   "cell_type": "code",
   "execution_count": 17,
   "metadata": {},
   "outputs": [
    {
     "name": "stdout",
     "output_type": "stream",
     "text": [
      "root\n",
      " |-- artist: string (nullable = true)\n",
      " |-- auth: string (nullable = true)\n",
      " |-- firstName: string (nullable = true)\n",
      " |-- gender: string (nullable = true)\n",
      " |-- itemInSession: long (nullable = true)\n",
      " |-- lastName: string (nullable = true)\n",
      " |-- length: double (nullable = true)\n",
      " |-- level: string (nullable = true)\n",
      " |-- location: string (nullable = true)\n",
      " |-- method: string (nullable = true)\n",
      " |-- page: string (nullable = true)\n",
      " |-- registration: long (nullable = true)\n",
      " |-- sessionId: long (nullable = true)\n",
      " |-- song: string (nullable = true)\n",
      " |-- status: long (nullable = true)\n",
      " |-- ts: long (nullable = true)\n",
      " |-- userAgent: string (nullable = true)\n",
      " |-- userId: string (nullable = true)\n",
      "\n"
     ]
    }
   ],
   "source": [
    "# checking the schema\n",
    "df_user_interactions.printSchema()"
   ]
  },
  {
   "cell_type": "code",
   "execution_count": 18,
   "metadata": {},
   "outputs": [
    {
     "name": "stdout",
     "output_type": "stream",
     "text": [
      "column names = ['artist', 'auth', 'firstName', 'gender', 'itemInSession', 'lastName', 'length', 'level', 'location', 'method', 'page', 'registration', 'sessionId', 'song', 'status', 'ts', 'userAgent', 'userId'] \n",
      "\n",
      "total columns= 18\n"
     ]
    }
   ],
   "source": [
    "#total columns\n",
    "print('column names =',df_user_interactions.columns,'\\n\\ntotal columns=',len(df_user_interactions.columns))"
   ]
  },
  {
   "cell_type": "code",
   "execution_count": 19,
   "metadata": {},
   "outputs": [
    {
     "data": {
      "text/plain": [
       "[Row(artist='Martha Tilston', auth='Logged In', firstName='Colin', gender='M', itemInSession=50, lastName='Freeman', length=277.89016, level='paid', location='Bakersfield, CA', method='PUT', page='NextSong', registration=1538173362000, sessionId=29, song='Rockpools', status=200, ts=1538352117000, userAgent='Mozilla/5.0 (Windows NT 6.1; WOW64; rv:31.0) Gecko/20100101 Firefox/31.0', userId='30')]"
      ]
     },
     "execution_count": 19,
     "metadata": {},
     "output_type": "execute_result"
    }
   ],
   "source": [
    "#displaying one sample record\n",
    "df_user_interactions.createOrReplaceTempView('view_event_data')\n",
    "spark.sql(\" SELECT * FROM view_event_data\").take(1)"
   ]
  },
  {
   "cell_type": "code",
   "execution_count": 20,
   "metadata": {},
   "outputs": [
    {
     "data": {
      "text/html": [
       "<div>\n",
       "<style scoped>\n",
       "    .dataframe tbody tr th:only-of-type {\n",
       "        vertical-align: middle;\n",
       "    }\n",
       "\n",
       "    .dataframe tbody tr th {\n",
       "        vertical-align: top;\n",
       "    }\n",
       "\n",
       "    .dataframe thead th {\n",
       "        text-align: right;\n",
       "    }\n",
       "</style>\n",
       "<table border=\"1\" class=\"dataframe\">\n",
       "  <thead>\n",
       "    <tr style=\"text-align: right;\">\n",
       "      <th></th>\n",
       "      <th>count</th>\n",
       "    </tr>\n",
       "  </thead>\n",
       "  <tbody>\n",
       "    <tr>\n",
       "      <th>0</th>\n",
       "      <td>286500</td>\n",
       "    </tr>\n",
       "  </tbody>\n",
       "</table>\n",
       "</div>"
      ],
      "text/plain": [
       "    count\n",
       "0  286500"
      ]
     },
     "execution_count": 20,
     "metadata": {},
     "output_type": "execute_result"
    }
   ],
   "source": [
    "#displaying total rows\n",
    "#spark.sql(\"\"\" SELECT count(*) FROM data\"\"\").show() \n",
    "str_sql=\"\"\" SELECT count(*) FROM view_event_data\"\"\"\n",
    "df=spark.sql(str_sql).toPandas()\n",
    "df.columns=['count']\n",
    "df.head()"
   ]
  },
  {
   "cell_type": "code",
   "execution_count": 21,
   "metadata": {},
   "outputs": [
    {
     "data": {
      "text/html": [
       "<div>\n",
       "<style scoped>\n",
       "    .dataframe tbody tr th:only-of-type {\n",
       "        vertical-align: middle;\n",
       "    }\n",
       "\n",
       "    .dataframe tbody tr th {\n",
       "        vertical-align: top;\n",
       "    }\n",
       "\n",
       "    .dataframe thead th {\n",
       "        text-align: right;\n",
       "    }\n",
       "</style>\n",
       "<table border=\"1\" class=\"dataframe\">\n",
       "  <thead>\n",
       "    <tr style=\"text-align: right;\">\n",
       "      <th></th>\n",
       "      <th>summary</th>\n",
       "      <th>artist</th>\n",
       "      <th>auth</th>\n",
       "      <th>firstName</th>\n",
       "      <th>gender</th>\n",
       "      <th>itemInSession</th>\n",
       "      <th>lastName</th>\n",
       "      <th>length</th>\n",
       "      <th>level</th>\n",
       "      <th>location</th>\n",
       "      <th>method</th>\n",
       "      <th>page</th>\n",
       "      <th>registration</th>\n",
       "      <th>sessionId</th>\n",
       "      <th>song</th>\n",
       "      <th>status</th>\n",
       "      <th>ts</th>\n",
       "      <th>userAgent</th>\n",
       "      <th>userId</th>\n",
       "    </tr>\n",
       "  </thead>\n",
       "  <tbody>\n",
       "    <tr>\n",
       "      <th>0</th>\n",
       "      <td>count</td>\n",
       "      <td>228108</td>\n",
       "      <td>286500</td>\n",
       "      <td>278154</td>\n",
       "      <td>278154</td>\n",
       "      <td>286500</td>\n",
       "      <td>278154</td>\n",
       "      <td>228108</td>\n",
       "      <td>286500</td>\n",
       "      <td>278154</td>\n",
       "      <td>286500</td>\n",
       "      <td>286500</td>\n",
       "      <td>278154</td>\n",
       "      <td>286500</td>\n",
       "      <td>228108</td>\n",
       "      <td>286500</td>\n",
       "      <td>286500</td>\n",
       "      <td>278154</td>\n",
       "      <td>286500</td>\n",
       "    </tr>\n",
       "    <tr>\n",
       "      <th>1</th>\n",
       "      <td>mean</td>\n",
       "      <td>551.0852017937219</td>\n",
       "      <td>None</td>\n",
       "      <td>None</td>\n",
       "      <td>None</td>\n",
       "      <td>114.41421291448516</td>\n",
       "      <td>None</td>\n",
       "      <td>249.1171819778458</td>\n",
       "      <td>None</td>\n",
       "      <td>None</td>\n",
       "      <td>None</td>\n",
       "      <td>None</td>\n",
       "      <td>1.5353588340844272E12</td>\n",
       "      <td>1041.526554973822</td>\n",
       "      <td>Infinity</td>\n",
       "      <td>210.05459685863875</td>\n",
       "      <td>1.5409568898104834E12</td>\n",
       "      <td>None</td>\n",
       "      <td>59682.02278593872</td>\n",
       "    </tr>\n",
       "    <tr>\n",
       "      <th>2</th>\n",
       "      <td>stddev</td>\n",
       "      <td>1217.7693079161374</td>\n",
       "      <td>None</td>\n",
       "      <td>None</td>\n",
       "      <td>None</td>\n",
       "      <td>129.76726201140994</td>\n",
       "      <td>None</td>\n",
       "      <td>99.23517921058361</td>\n",
       "      <td>None</td>\n",
       "      <td>None</td>\n",
       "      <td>None</td>\n",
       "      <td>None</td>\n",
       "      <td>3.291321616327586E9</td>\n",
       "      <td>726.7762634630741</td>\n",
       "      <td>NaN</td>\n",
       "      <td>31.50507848842214</td>\n",
       "      <td>1.5075439608226302E9</td>\n",
       "      <td>None</td>\n",
       "      <td>109091.9499991047</td>\n",
       "    </tr>\n",
       "    <tr>\n",
       "      <th>3</th>\n",
       "      <td>min</td>\n",
       "      <td>!!!</td>\n",
       "      <td>Cancelled</td>\n",
       "      <td>Adelaida</td>\n",
       "      <td>F</td>\n",
       "      <td>0</td>\n",
       "      <td>Adams</td>\n",
       "      <td>0.78322</td>\n",
       "      <td>free</td>\n",
       "      <td>Albany, OR</td>\n",
       "      <td>GET</td>\n",
       "      <td>About</td>\n",
       "      <td>1521380675000</td>\n",
       "      <td>1</td>\n",
       "      <td>ÃÂg ÃÂtti GrÃÂ¡a ÃÂsku</td>\n",
       "      <td>200</td>\n",
       "      <td>1538352117000</td>\n",
       "      <td>\"Mozilla/5.0 (Macintosh; Intel Mac OS X 10_10)...</td>\n",
       "      <td></td>\n",
       "    </tr>\n",
       "    <tr>\n",
       "      <th>4</th>\n",
       "      <td>max</td>\n",
       "      <td>ÃÂlafur Arnalds</td>\n",
       "      <td>Logged Out</td>\n",
       "      <td>Zyonna</td>\n",
       "      <td>M</td>\n",
       "      <td>1321</td>\n",
       "      <td>Wright</td>\n",
       "      <td>3024.66567</td>\n",
       "      <td>paid</td>\n",
       "      <td>Winston-Salem, NC</td>\n",
       "      <td>PUT</td>\n",
       "      <td>Upgrade</td>\n",
       "      <td>1543247354000</td>\n",
       "      <td>2474</td>\n",
       "      <td>ÃÂau hafa sloppiÃÂ° undan ÃÂ¾unga myrkursins</td>\n",
       "      <td>404</td>\n",
       "      <td>1543799476000</td>\n",
       "      <td>Mozilla/5.0 (compatible; MSIE 9.0; Windows NT ...</td>\n",
       "      <td>99</td>\n",
       "    </tr>\n",
       "  </tbody>\n",
       "</table>\n",
       "</div>"
      ],
      "text/plain": [
       "  summary              artist        auth firstName  gender  \\\n",
       "0   count              228108      286500    278154  278154   \n",
       "1    mean   551.0852017937219        None      None    None   \n",
       "2  stddev  1217.7693079161374        None      None    None   \n",
       "3     min                 !!!   Cancelled  Adelaida       F   \n",
       "4     max   ÃÂlafur Arnalds  Logged Out    Zyonna       M   \n",
       "\n",
       "        itemInSession lastName             length   level           location  \\\n",
       "0              286500   278154             228108  286500             278154   \n",
       "1  114.41421291448516     None  249.1171819778458    None               None   \n",
       "2  129.76726201140994     None  99.23517921058361    None               None   \n",
       "3                   0    Adams            0.78322    free         Albany, OR   \n",
       "4                1321   Wright         3024.66567    paid  Winston-Salem, NC   \n",
       "\n",
       "   method     page           registration          sessionId  \\\n",
       "0  286500   286500                 278154             286500   \n",
       "1    None     None  1.5353588340844272E12  1041.526554973822   \n",
       "2    None     None    3.291321616327586E9  726.7762634630741   \n",
       "3     GET    About          1521380675000                  1   \n",
       "4     PUT  Upgrade          1543247354000               2474   \n",
       "\n",
       "                                               song              status  \\\n",
       "0                                            228108              286500   \n",
       "1                                          Infinity  210.05459685863875   \n",
       "2                                               NaN   31.50507848842214   \n",
       "3                    \n",
       "ÃÂg ÃÂtti GrÃÂ¡a ÃÂsku                 200   \n",
       "4  ÃÂau hafa sloppiÃÂ° undan ÃÂ¾unga myrkursins                 404   \n",
       "\n",
       "                      ts                                          userAgent  \\\n",
       "0                 286500                                             278154   \n",
       "1  1.5409568898104834E12                                               None   \n",
       "2   1.5075439608226302E9                                               None   \n",
       "3          1538352117000  \"Mozilla/5.0 (Macintosh; Intel Mac OS X 10_10)...   \n",
       "4          1543799476000  Mozilla/5.0 (compatible; MSIE 9.0; Windows NT ...   \n",
       "\n",
       "              userId  \n",
       "0             286500  \n",
       "1  59682.02278593872  \n",
       "2  109091.9499991047  \n",
       "3                     \n",
       "4                 99  "
      ]
     },
     "execution_count": 21,
     "metadata": {},
     "output_type": "execute_result"
    }
   ],
   "source": [
    "# checking the properties\n",
    "df_user_interactions.describe().toPandas()"
   ]
  },
  {
   "cell_type": "code",
   "execution_count": 22,
   "metadata": {},
   "outputs": [
    {
     "data": {
      "text/plain": [
       "userId               0\n",
       "auth                 0\n",
       "ts                   0\n",
       "status               0\n",
       "itemInSession        0\n",
       "sessionId            0\n",
       "level                0\n",
       "page                 0\n",
       "method               0\n",
       "registration      8346\n",
       "location          8346\n",
       "lastName          8346\n",
       "gender            8346\n",
       "firstName         8346\n",
       "userAgent         8346\n",
       "length           58392\n",
       "song             58392\n",
       "artist           58392\n",
       "dtype: int64"
      ]
     },
     "execution_count": 22,
     "metadata": {},
     "output_type": "execute_result"
    }
   ],
   "source": [
    "# checking for null values\n",
    "df_pandas=df_user_interactions.toPandas()\n",
    "df_pandas.isnull().sum().sort_values()"
   ]
  },
  {
   "cell_type": "code",
   "execution_count": 23,
   "metadata": {},
   "outputs": [],
   "source": [
    "# drop NAs for not null columns\n",
    "df_user_interactions = df_user_interactions.dropna(how = 'any', subset = ['userId', 'sessionId','auth','ts','status','itemInSession','level','page','method'])"
   ]
  },
  {
   "cell_type": "code",
   "execution_count": 24,
   "metadata": {},
   "outputs": [
    {
     "data": {
      "text/html": [
       "<div>\n",
       "<style scoped>\n",
       "    .dataframe tbody tr th:only-of-type {\n",
       "        vertical-align: middle;\n",
       "    }\n",
       "\n",
       "    .dataframe tbody tr th {\n",
       "        vertical-align: top;\n",
       "    }\n",
       "\n",
       "    .dataframe thead th {\n",
       "        text-align: right;\n",
       "    }\n",
       "</style>\n",
       "<table border=\"1\" class=\"dataframe\">\n",
       "  <thead>\n",
       "    <tr style=\"text-align: right;\">\n",
       "      <th></th>\n",
       "      <th>count</th>\n",
       "    </tr>\n",
       "  </thead>\n",
       "  <tbody>\n",
       "    <tr>\n",
       "      <th>0</th>\n",
       "      <td>8346</td>\n",
       "    </tr>\n",
       "  </tbody>\n",
       "</table>\n",
       "</div>"
      ],
      "text/plain": [
       "   count\n",
       "0   8346"
      ]
     },
     "execution_count": 24,
     "metadata": {},
     "output_type": "execute_result"
    }
   ],
   "source": [
    "#checking the UserId for empty string\n",
    "str_sql=\"SELECT count(userId) FROM view_event_data where userId=''\"\n",
    "df=spark.sql(str_sql).toPandas()\n",
    "df.columns=['count']\n",
    "df.head()"
   ]
  },
  {
   "cell_type": "code",
   "execution_count": 25,
   "metadata": {},
   "outputs": [
    {
     "data": {
      "text/html": [
       "<div>\n",
       "<style scoped>\n",
       "    .dataframe tbody tr th:only-of-type {\n",
       "        vertical-align: middle;\n",
       "    }\n",
       "\n",
       "    .dataframe tbody tr th {\n",
       "        vertical-align: top;\n",
       "    }\n",
       "\n",
       "    .dataframe thead th {\n",
       "        text-align: right;\n",
       "    }\n",
       "</style>\n",
       "<table border=\"1\" class=\"dataframe\">\n",
       "  <thead>\n",
       "    <tr style=\"text-align: right;\">\n",
       "      <th></th>\n",
       "      <th>userid</th>\n",
       "      <th>songs_count</th>\n",
       "    </tr>\n",
       "  </thead>\n",
       "  <tbody>\n",
       "    <tr>\n",
       "      <th>191</th>\n",
       "      <td>39</td>\n",
       "      <td>8002</td>\n",
       "    </tr>\n",
       "    <tr>\n",
       "      <th>127</th>\n",
       "      <td>92</td>\n",
       "      <td>5945</td>\n",
       "    </tr>\n",
       "    <tr>\n",
       "      <th>69</th>\n",
       "      <td>140</td>\n",
       "      <td>5664</td>\n",
       "    </tr>\n",
       "    <tr>\n",
       "      <th>89</th>\n",
       "      <td>300011</td>\n",
       "      <td>4619</td>\n",
       "    </tr>\n",
       "    <tr>\n",
       "      <th>4</th>\n",
       "      <td>124</td>\n",
       "      <td>4079</td>\n",
       "    </tr>\n",
       "  </tbody>\n",
       "</table>\n",
       "</div>"
      ],
      "text/plain": [
       "     userid  songs_count\n",
       "191      39         8002\n",
       "127      92         5945\n",
       "69      140         5664\n",
       "89   300011         4619\n",
       "4       124         4079"
      ]
     },
     "execution_count": 25,
     "metadata": {},
     "output_type": "execute_result"
    }
   ],
   "source": [
    "str_sql=\"SELECT userId,count(song) as songs_count FROM view_event_data group by userId\"\n",
    "df=spark.sql(str_sql).toPandas().sort_values(by=['songs_count'],ascending=False)\n",
    "df.columns=['userid','songs_count']\n",
    "df.head()"
   ]
  },
  {
   "cell_type": "code",
   "execution_count": 26,
   "metadata": {},
   "outputs": [
    {
     "name": "stdout",
     "output_type": "stream",
     "text": [
      "count before deleting =  286500\n",
      "count after deleting =  278154\n"
     ]
    }
   ],
   "source": [
    "#removing the empty userid records\n",
    "print('count before deleting = ',df_user_interactions.count())\n",
    "df_user_interactions=df_user_interactions.filter(df_user_interactions['userId'] != '')\n",
    "print('count after deleting = ',df_user_interactions.count())\n",
    "df_user_interactions.createOrReplaceTempView('view_event_data1')"
   ]
  },
  {
   "cell_type": "markdown",
   "metadata": {},
   "source": [
    "### Steps followed for data loading and cleaning\n",
    "Data has been loaded from json file using spark object and a spark dataframe is created to clean the data. The schema has been checked for the data types and data summary has been checked through describe method. In addition to this, sanctity checks like no of rows, null values for each column has been checked. The userid is an important field and hence userid with empty strings have been removed. "
   ]
  },
  {
   "cell_type": "markdown",
   "metadata": {},
   "source": [
    "# Exploratory Data Analysis\n",
    "When you're working with the full dataset, perform EDA by loading a small subset of the data and doing basic manipulations within Spark. In this workspace, you are already provided a small subset of data you can explore.\n",
    "\n",
    "### Define Churn\n",
    "\n",
    "Once you've done some preliminary analysis, create a column `Churn` to use as the label for your model. I suggest using the `Cancellation Confirmation` events to define your churn, which happen for both paid and free users. As a bonus task, you can also look into the `Downgrade` events.\n",
    "\n",
    "### Explore Data\n",
    "Once you've defined churn, perform some exploratory data analysis to observe the behavior for users who stayed vs users who churned. You can start by exploring aggregates on these two groups of users, observing how much of a specific action they experienced per a certain time unit or number of songs played."
   ]
  },
  {
   "cell_type": "code",
   "execution_count": 27,
   "metadata": {},
   "outputs": [
    {
     "name": "stdout",
     "output_type": "stream",
     "text": [
      "+--------------------+------+\n",
      "|                page|counts|\n",
      "+--------------------+------+\n",
      "|            NextSong|228108|\n",
      "|           Thumbs Up| 12551|\n",
      "|                Home| 10082|\n",
      "|     Add to Playlist|  6526|\n",
      "|          Add Friend|  4277|\n",
      "|         Roll Advert|  3933|\n",
      "|              Logout|  3226|\n",
      "|         Thumbs Down|  2546|\n",
      "|           Downgrade|  2055|\n",
      "|            Settings|  1514|\n",
      "|                Help|  1454|\n",
      "|             Upgrade|   499|\n",
      "|               About|   495|\n",
      "|       Save Settings|   310|\n",
      "|               Error|   252|\n",
      "|      Submit Upgrade|   159|\n",
      "|    Submit Downgrade|    63|\n",
      "|              Cancel|    52|\n",
      "|Cancellation Conf...|    52|\n",
      "+--------------------+------+\n",
      "\n"
     ]
    }
   ],
   "source": [
    "\n",
    "strsql=\"\"\"select page,count(page) as counts from view_event_data1 group by page order by counts desc\"\"\"\n",
    "spark.sql(strsql).show(100)"
   ]
  },
  {
   "cell_type": "markdown",
   "metadata": {},
   "source": [
    "### computation of churn\n",
    "chrun field is computed by creating udf function and by applying it on the each record of Cancellation Confirmation filter of page field"
   ]
  },
  {
   "cell_type": "code",
   "execution_count": 28,
   "metadata": {},
   "outputs": [],
   "source": [
    "# creaing chrun column based on the Cancellation Confirmation event\n",
    "\n",
    "def_cancelation_event = udf(lambda p: 1 if p == \"Cancellation Confirmation\" else 0, IntegerType())\n",
    "\n",
    "# applying def_cancelation_event to the dataframe\n",
    "df_user_interactions = df_user_interactions.withColumn(\"churn\", def_cancelation_event(\"page\"))\n",
    "# window bounds\n",
    "windowval = Window.partitionBy(\"userId\").rangeBetween(Window.unboundedPreceding, Window.unboundedFollowing)\n",
    "# apply window\n",
    "df_user_interactions = df_user_interactions.withColumn(\"churn\", Fsum(\"churn\").over(windowval))\n",
    "\n",
    "df_user_interactions=df_user_interactions.filter(df_user_interactions['userId'] != '')\n",
    "df_user_interactions.createOrReplaceTempView('view_event_data2')\n",
    "\n"
   ]
  },
  {
   "cell_type": "code",
   "execution_count": 29,
   "metadata": {},
   "outputs": [
    {
     "name": "stdout",
     "output_type": "stream",
     "text": [
      "+-----+-----+\n",
      "|churn|users|\n",
      "+-----+-----+\n",
      "|    0|  173|\n",
      "|    1|   52|\n",
      "+-----+-----+\n",
      "\n"
     ]
    }
   ],
   "source": [
    "# exploring categorical values\n",
    "# exploring churn\n",
    "spark.sql(\"\"\"select churn,count(distinct userId) as users from view_event_data2 group by churn\"\"\").show()"
   ]
  },
  {
   "cell_type": "code",
   "execution_count": 30,
   "metadata": {},
   "outputs": [
    {
     "name": "stdout",
     "output_type": "stream",
     "text": [
      "+-----+----------------------+\n",
      "|churn|count(DISTINCT userid)|\n",
      "+-----+----------------------+\n",
      "|    0|                   162|\n",
      "|    1|                    44|\n",
      "+-----+----------------------+\n",
      "\n"
     ]
    }
   ],
   "source": [
    "# exploring Add Friend \n",
    "spark.sql(\"select churn,count(distinct userid) from view_event_data2 where page='Add Friend' group by churn\").show()"
   ]
  },
  {
   "cell_type": "code",
   "execution_count": 20,
   "metadata": {},
   "outputs": [
    {
     "name": "stdout",
     "output_type": "stream",
     "text": [
      "+-----+---------+\n",
      "|churn|AddFriend|\n",
      "+-----+---------+\n",
      "|    0|    22.48|\n",
      "|    1|    14.45|\n",
      "+-----+---------+\n",
      "\n"
     ]
    }
   ],
   "source": [
    "#Add Friend in %\n",
    "spark.sql(\"SELECT churn,round(count(1)/count(DISTINCT userId),2) AS AddFriend FROM view_event_data2\\\n",
    "            WHERE page = 'Add Friend' GROUP BY churn\").show();"
   ]
  },
  {
   "cell_type": "code",
   "execution_count": 20,
   "metadata": {},
   "outputs": [
    {
     "name": "stdout",
     "output_type": "stream",
     "text": [
      "+-----+------+----------+\n",
      "|churn|userid|song_count|\n",
      "+-----+------+----------+\n",
      "|    0|   173|    191714|\n",
      "|    1|    52|     36394|\n",
      "+-----+------+----------+\n",
      "\n"
     ]
    }
   ],
   "source": [
    "spark.sql(\"SELECT churn,count(DISTINCT userId) userid, count(song) song_count FROM view_event_data2\\\n",
    "            GROUP BY churn\").show();"
   ]
  },
  {
   "cell_type": "code",
   "execution_count": 21,
   "metadata": {},
   "outputs": [
    {
     "name": "stdout",
     "output_type": "stream",
     "text": [
      "+-----+------------+\n",
      "|level|count(level)|\n",
      "+-----+------------+\n",
      "| free|       55721|\n",
      "| paid|      222433|\n",
      "+-----+------------+\n",
      "\n"
     ]
    }
   ],
   "source": [
    "# exploring level\n",
    "spark.sql(\"select level,count(level) from view_event_data2 group by level\").show()"
   ]
  },
  {
   "cell_type": "code",
   "execution_count": 31,
   "metadata": {},
   "outputs": [],
   "source": [
    "# writing function for creating spark queries and for plotting graphs\n",
    "def spark_feature_queries(strsql):\n",
    "        \"\"\"\n",
    "            This function creates spark dataframe and pandas dataframe by taking sql query as input parameter\n",
    "            Paremeter:\n",
    "            \n",
    "            strsql = string containing sql query\n",
    "            \n",
    "            return parameter\n",
    "            \n",
    "            df_spark - spark data frame\n",
    "            df_pandas - pandas dataframe\n",
    "            \n",
    "        \"\"\"\n",
    "        df_spark=spark.sql(strsql)\n",
    "        df_pandas=spark.sql(strsql).toPandas()\n",
    "        return df_spark,df_pandas\n",
    "\n",
    "def plot_graph(title,df_pandas,palette='muted'):\n",
    "    \"\"\"\n",
    "            This function plots the bargraph using the dataframe passed\n",
    "            Paremeter:\n",
    "            \n",
    "            title = title of the bar graph\n",
    "            df_pandas = dataframe for the bar graph\n",
    "            \n",
    "            return parameter\n",
    "            \n",
    "            df_spark - spark data frame\n",
    "            df_pandas - pandas dataframe\n",
    "            \n",
    "     \"\"\"\n",
    "    plt.title(title)\n",
    "    sns.barplot(x=df_pandas.columns[0], y=df_pandas.columns[1], data=df_pandas,palette=palette)\n",
    "    plt.show();\n"
   ]
  },
  {
   "cell_type": "code",
   "execution_count": 32,
   "metadata": {},
   "outputs": [
    {
     "data": {
      "image/png": "[encoded data removed]",
      "text/plain": [
       "<matplotlib.figure.Figure at 0x7fd723080d68>"
      ]
     },
     "metadata": {
      "needs_background": "light"
     },
     "output_type": "display_data"
    }
   ],
   "source": [
    "# ploting the churn splits\n",
    "strsql=\"\"\"select churn,count(distinct userId) as users from view_event_data2 group by churn\"\"\"  \n",
    "df_spark,df_pandas=spark_feature_queries(strsql)\n",
    "plot_graph(\"distribution of churn\",df_pandas)"
   ]
  },
  {
   "cell_type": "markdown",
   "metadata": {},
   "source": [
    "Churn is created based on the Cancellation Confirmation event and data explored for few features based on churn. Data is cleaned up by applying na function and dropped userids with empty strings."
   ]
  },
  {
   "cell_type": "markdown",
   "metadata": {},
   "source": [
    "# Feature Engineering\n",
    "Once you've familiarized yourself with the data, build out the features you find promising to train your model on. To work with the full dataset, you can follow the following steps.\n",
    "- Write a script to extract the necessary features from the smaller subset of data\n",
    "- Ensure that your script is scalable, using the best practices discussed in Lesson 3\n",
    "- Try your script on the full data set, debugging your script if necessary\n",
    "\n",
    "If you are working in the classroom workspace, you can just extract features based on the small subset of data contained here. Be sure to transfer over this work to the larger dataset when you work on your Spark cluster."
   ]
  },
  {
   "cell_type": "markdown",
   "metadata": {},
   "source": [
    "### Feature selection and visualization\n",
    "\n",
    "We will be exploring and visualizing various features before selecting some of them. The features that are of interest are churn, add friend,downgrade,level paid, level free,help, thumbsup, upgrade,session, gender,length and add to play list."
   ]
  },
  {
   "cell_type": "markdown",
   "metadata": {},
   "source": [
    "### Feature Song\n",
    "Song played is a key fields and the number songs played by churn and non churn group is interesting. More songs have been played by non churn users."
   ]
  },
  {
   "cell_type": "code",
   "execution_count": 33,
   "metadata": {},
   "outputs": [
    {
     "data": {
      "image/png": "[encoded data removed]",
      "text/plain": [
       "<matplotlib.figure.Figure at 0x7fd70830cc50>"
      ]
     },
     "metadata": {
      "needs_background": "light"
     },
     "output_type": "display_data"
    },
    {
     "name": "stdout",
     "output_type": "stream",
     "text": [
      "+-----+----------+\n",
      "|churn|song_count|\n",
      "+-----+----------+\n",
      "|    0|    191714|\n",
      "|    1|     36394|\n",
      "+-----+----------+\n",
      "\n"
     ]
    }
   ],
   "source": [
    "# computing the churn for song played creating a view for final query\n",
    "strsql= \"\"\"SELECT churn,count(song) as song_count FROM view_event_data2 group by churn\"\"\"\n",
    "df_spark_songs,df_pandas_songs=spark_feature_queries(strsql)\n",
    "plot_graph(\"distribution of churn for song count\",df_pandas_songs,'bright')\n",
    "df_spark_songs.show()"
   ]
  },
  {
   "cell_type": "markdown",
   "metadata": {},
   "source": [
    "### Feature Add Friend\n",
    "Churn distribution based on the feature Add friend. The non churn users have added more more friends than non chrun users."
   ]
  },
  {
   "cell_type": "code",
   "execution_count": 34,
   "metadata": {},
   "outputs": [
    {
     "data": {
      "image/png": "[encoded data removed]",
      "text/plain": [
       "<matplotlib.figure.Figure at 0x7fd6feff1390>"
      ]
     },
     "metadata": {
      "needs_background": "light"
     },
     "output_type": "display_data"
    },
    {
     "name": "stdout",
     "output_type": "stream",
     "text": [
      "+-----+---------+\n",
      "|churn|AddFriend|\n",
      "+-----+---------+\n",
      "|    0|    22.48|\n",
      "|    1|    14.45|\n",
      "+-----+---------+\n",
      "\n"
     ]
    }
   ],
   "source": [
    "# computing the churn for add friend page filter and creating a view for final query\n",
    "strsql= \"\"\"SELECT churn,round(count(1)/count(DISTINCT userId),2) as AddFriend FROM view_event_data2 WHERE page = 'Add Friend' GROUP BY churn\"\"\"\n",
    "df_spark_addfriend,df_pandas_addfriend=spark_feature_queries(strsql)\n",
    "plot_graph(\"distribution of churn for Add Friend event\",df_pandas_addfriend,'bright')\n",
    "df_spark_addfriend.show()"
   ]
  },
  {
   "cell_type": "markdown",
   "metadata": {},
   "source": [
    "### Feature Downgrade\n",
    "chrun distribution for downgrade filter on page column"
   ]
  },
  {
   "cell_type": "code",
   "execution_count": 13,
   "metadata": {},
   "outputs": [
    {
     "data": {
      "image/png": "[encoded data removed]",
      "text/plain": [
       "<matplotlib.figure.Figure at 0x7fd7084960b8>"
      ]
     },
     "metadata": {
      "needs_background": "light"
     },
     "output_type": "display_data"
    },
    {
     "name": "stdout",
     "output_type": "stream",
     "text": [
      "+-----+---------+\n",
      "|churn|Downgrade|\n",
      "+-----+---------+\n",
      "|    0|    14.44|\n",
      "|    1|     9.63|\n",
      "+-----+---------+\n",
      "\n"
     ]
    }
   ],
   "source": [
    "# computing the chrun for downgrade page filter and creating view for final query\n",
    "strsql= \"SELECT churn,round(count(1)/count(DISTINCT userId),2) as Downgrade FROM view_event_data2 WHERE page = 'Downgrade' GROUP BY churn\"\n",
    "df_spark_downgrade,df_pandas_downgrade=spark_feature_queries(strsql)\n",
    "plot_graph(\"distribution of churn for Downgrade event\",df_pandas_downgrade,'dark')\n",
    "df_spark_downgrade.show()"
   ]
  },
  {
   "cell_type": "markdown",
   "metadata": {},
   "source": [
    "### Feature level paid, level free\n",
    "chrun distribution for level column. There are two levels paid users and free users. The non churned users are higher in both paid and free categories."
   ]
  },
  {
   "cell_type": "code",
   "execution_count": 28,
   "metadata": {},
   "outputs": [
    {
     "name": "stdout",
     "output_type": "stream",
     "text": [
      "+-----+----------+\n",
      "|churn|level_paid|\n",
      "+-----+----------+\n",
      "|    0|   1472.53|\n",
      "|    1|    902.11|\n",
      "+-----+----------+\n",
      "\n"
     ]
    },
    {
     "data": {
      "image/png": "[encoded data removed]",
      "text/plain": [
       "<matplotlib.figure.Figure at 0x7f473c4be358>"
      ]
     },
     "metadata": {
      "needs_background": "light"
     },
     "output_type": "display_data"
    },
    {
     "name": "stdout",
     "output_type": "stream",
     "text": [
      "+-----+----------+\n",
      "|churn|level_free|\n",
      "+-----+----------+\n",
      "|    0|    290.83|\n",
      "|    1|     269.3|\n",
      "+-----+----------+\n",
      "\n"
     ]
    },
    {
     "data": {
      "image/png": "[encoded data removed]",
      "text/plain": [
       "<matplotlib.figure.Figure at 0x7f4726638470>"
      ]
     },
     "metadata": {
      "needs_background": "light"
     },
     "output_type": "display_data"
    }
   ],
   "source": [
    "# computing the churn distribution for level paid and free and then creating views for the final query\n",
    "strsql= \"SELECT churn,round(count(1)/count(DISTINCT userId),2) AS level_paid \\\n",
    "    FROM view_event_data2 WHERE level = 'paid' \\\n",
    "    GROUP BY churn\"\n",
    "df_spark_level,df_pandas_level=spark_feature_queries(strsql)\n",
    "df_spark_level.show()\n",
    "plot_graph(\"distribution of churn for level paid\",df_pandas_level,'deep')\n",
    "strsql= \"SELECT churn,round(count(1)/count(DISTINCT userId),2) AS level_free \\\n",
    "    FROM view_event_data2 WHERE level = 'free' \\\n",
    "    GROUP BY churn\"\n",
    "df_spark_level,df_pandas_level=spark_feature_queries(strsql)\n",
    "df_spark_level.show()\n",
    "plot_graph(\"distribution of churn for level free\",df_pandas_level,'bright')\n"
   ]
  },
  {
   "cell_type": "markdown",
   "metadata": {},
   "source": [
    "### Feature Help"
   ]
  },
  {
   "cell_type": "code",
   "execution_count": 29,
   "metadata": {},
   "outputs": [
    {
     "name": "stdout",
     "output_type": "stream",
     "text": [
      "+-----+----+\n",
      "|churn|help|\n",
      "+-----+----+\n",
      "|    0|8.15|\n",
      "|    1|5.56|\n",
      "+-----+----+\n",
      "\n"
     ]
    },
    {
     "data": {
      "image/png": "[encoded data removed]",
      "text/plain": [
       "<matplotlib.figure.Figure at 0x7f47350832e8>"
      ]
     },
     "metadata": {
      "needs_background": "light"
     },
     "output_type": "display_data"
    }
   ],
   "source": [
    "# computing the churn distribution for help filter and then creating views for the final query\n",
    "strsql= \"select churn,round(count(1)/count(DISTINCT userId),2) as help from view_event_data2 WHERE page ='Help' group by churn\"\n",
    "df_spark_help,df_pandas_help=spark_feature_queries(strsql)\n",
    "df_spark_help.show()\n",
    "plot_graph(\"distribution of churn for page filter Help\",df_pandas_help,'pastel')\n"
   ]
  },
  {
   "cell_type": "markdown",
   "metadata": {},
   "source": [
    "### Feature Thumbsup\n",
    "63% of the non chruned users have cliked on thumbs up againest 37% by churned users"
   ]
  },
  {
   "cell_type": "code",
   "execution_count": 30,
   "metadata": {},
   "outputs": [
    {
     "name": "stdout",
     "output_type": "stream",
     "text": [
      "+-----+--------+\n",
      "|churn|Thumpsup|\n",
      "+-----+--------+\n",
      "|    0|   62.89|\n",
      "|    1|   37.18|\n",
      "+-----+--------+\n",
      "\n"
     ]
    },
    {
     "data": {
      "image/png": "[encoded data removed]",
      "text/plain": [
       "<matplotlib.figure.Figure at 0x7f473d7bd438>"
      ]
     },
     "metadata": {
      "needs_background": "light"
     },
     "output_type": "display_data"
    }
   ],
   "source": [
    "# computing the churn distribution for thumbs up filter and creating a view for final query\n",
    "strsql=\"SELECT churn,round(count(1)/count(DISTINCT userId),2) as Thumpsup FROM view_event_data2 WHERE page = 'Thumbs Up' GROUP BY churn\"\n",
    "df_spark_thumbsup,df_pandas_thumbsup=spark_feature_queries(strsql)\n",
    "df_spark_thumbsup.show()\n",
    "plot_graph(\"distribution of churn for page filter Help\",df_pandas_thumbsup,'colorblind')\n"
   ]
  },
  {
   "cell_type": "markdown",
   "metadata": {},
   "source": [
    "### Feature Upgrade"
   ]
  },
  {
   "cell_type": "code",
   "execution_count": 31,
   "metadata": {},
   "outputs": [
    {
     "name": "stdout",
     "output_type": "stream",
     "text": [
      "+-----+-------+\n",
      "|churn|Upgrade|\n",
      "+-----+-------+\n",
      "|    0|   1.25|\n",
      "|    1|    1.1|\n",
      "+-----+-------+\n",
      "\n"
     ]
    },
    {
     "data": {
      "image/png": "[encoded data removed]",
      "text/plain": [
       "<matplotlib.figure.Figure at 0x7f473dc7e4a8>"
      ]
     },
     "metadata": {
      "needs_background": "light"
     },
     "output_type": "display_data"
    }
   ],
   "source": [
    "# computing the churn distribution for upgrade filter and creating a view for final query\n",
    "strsql=\"SELECT churn,round(count(1)/count(DISTINCT userId),2) as Upgrade FROM view_event_data2 WHERE page = 'Submit Upgrade' GROUP BY churn\"\n",
    "df_spark_upgrade,df_pandas_upgrade=spark_feature_queries(strsql)\n",
    "df_spark_upgrade.show()\n",
    "plot_graph(\"distribution of churn for page filter upgrade\",df_pandas_upgrade,'deep')\n",
    "\n",
    "#spark.sql(\"select * from view_upgrade\").show()"
   ]
  },
  {
   "cell_type": "markdown",
   "metadata": {},
   "source": [
    "### Feature Session\n",
    "non churned users have higher nos of sessions than churned users"
   ]
  },
  {
   "cell_type": "code",
   "execution_count": 32,
   "metadata": {},
   "outputs": [
    {
     "name": "stdout",
     "output_type": "stream",
     "text": [
      "+-----+--------+\n",
      "|churn|sessions|\n",
      "+-----+--------+\n",
      "|    0| 1198.29|\n",
      "|    1|  559.48|\n",
      "+-----+--------+\n",
      "\n"
     ]
    },
    {
     "data": {
      "image/png": "[encoded data removed]",
      "text/plain": [
       "<matplotlib.figure.Figure at 0x7f4737b71c50>"
      ]
     },
     "metadata": {
      "needs_background": "light"
     },
     "output_type": "display_data"
    }
   ],
   "source": [
    "# computing the churn distribution for average sessions and creating a view for final query\n",
    "strsql=\"SELECT churn,round(avg(distinct sessionId),2) as sessions FROM view_event_data2 group by churn\"\n",
    "df_spark_session,df_pandas_session=spark_feature_queries(strsql)\n",
    "df_spark_session.show()\n",
    "plot_graph(\"distribution of churn for avg sessions\",df_pandas_session,'dark')\n",
    "\n",
    "#spark.sql(\"select * from view_sessions\").show()"
   ]
  },
  {
   "cell_type": "markdown",
   "metadata": {},
   "source": [
    "### Feature gender\n",
    "Female gender distribution is higher for the non churned users. The gender blank records have been treated as Male category"
   ]
  },
  {
   "cell_type": "code",
   "execution_count": 33,
   "metadata": {},
   "outputs": [
    {
     "name": "stdout",
     "output_type": "stream",
     "text": [
      "+-----+------+------------+\n",
      "|churn|gender|gender_count|\n",
      "+-----+------+------------+\n",
      "|    0|     0|     1612.02|\n",
      "|    1|     1|       803.0|\n",
      "|    1|     0|       958.4|\n",
      "|    0|     1|     1099.78|\n",
      "+-----+------+------------+\n",
      "\n"
     ]
    },
    {
     "data": {
      "image/png": "[encoded data removed]",
      "text/plain": [
       "<matplotlib.figure.Figure at 0x7f47261810b8>"
      ]
     },
     "metadata": {
      "needs_background": "light"
     },
     "output_type": "display_data"
    },
    {
     "data": {
      "text/html": [
       "<div>\n",
       "<style scoped>\n",
       "    .dataframe tbody tr th:only-of-type {\n",
       "        vertical-align: middle;\n",
       "    }\n",
       "\n",
       "    .dataframe tbody tr th {\n",
       "        vertical-align: top;\n",
       "    }\n",
       "\n",
       "    .dataframe thead th {\n",
       "        text-align: right;\n",
       "    }\n",
       "</style>\n",
       "<table border=\"1\" class=\"dataframe\">\n",
       "  <thead>\n",
       "    <tr style=\"text-align: right;\">\n",
       "      <th></th>\n",
       "      <th>churn</th>\n",
       "      <th>gender</th>\n",
       "      <th>gender_count</th>\n",
       "    </tr>\n",
       "  </thead>\n",
       "  <tbody>\n",
       "    <tr>\n",
       "      <th>0</th>\n",
       "      <td>0</td>\n",
       "      <td>0</td>\n",
       "      <td>1612.02</td>\n",
       "    </tr>\n",
       "    <tr>\n",
       "      <th>1</th>\n",
       "      <td>1</td>\n",
       "      <td>1</td>\n",
       "      <td>803.00</td>\n",
       "    </tr>\n",
       "    <tr>\n",
       "      <th>2</th>\n",
       "      <td>1</td>\n",
       "      <td>0</td>\n",
       "      <td>958.40</td>\n",
       "    </tr>\n",
       "    <tr>\n",
       "      <th>3</th>\n",
       "      <td>0</td>\n",
       "      <td>1</td>\n",
       "      <td>1099.78</td>\n",
       "    </tr>\n",
       "  </tbody>\n",
       "</table>\n",
       "</div>"
      ],
      "text/plain": [
       "   churn  gender  gender_count\n",
       "0      0       0       1612.02\n",
       "1      1       1        803.00\n",
       "2      1       0        958.40\n",
       "3      0       1       1099.78"
      ]
     },
     "execution_count": 33,
     "metadata": {},
     "output_type": "execute_result"
    }
   ],
   "source": [
    "# Gender distribution and creating view for final query\n",
    "strsql=\"SELECT churn,case when gender='F' then 0 else 1 end as gender,round(count(1)/count(DISTINCT userId),2) gender_count FROM view_event_data2 GROUP BY churn,gender\"\n",
    "df_spark_gender,df_pandas_gender=spark_feature_queries(strsql)\n",
    "df_spark_gender.show()\n",
    "plt.title(\"distribution of gender\");\n",
    "sns.barplot(x=\"churn\", y=\"gender_count\", hue='gender',data=df_pandas_gender);\n",
    "plt.show();\n",
    "df_pandas_gender.head(100)\n",
    "\n",
    "#spark.sql(\"select * from view_gender\").show()"
   ]
  },
  {
   "cell_type": "markdown",
   "metadata": {},
   "source": [
    "### Feature length\n",
    "The length of the song is another key field for data analysis. Non churned users have listened to more songs."
   ]
  },
  {
   "cell_type": "code",
   "execution_count": 34,
   "metadata": {},
   "outputs": [
    {
     "name": "stdout",
     "output_type": "stream",
     "text": [
      "+-----+---------+\n",
      "|churn|   length|\n",
      "+-----+---------+\n",
      "|    0|276166.94|\n",
      "|    1|174014.27|\n",
      "+-----+---------+\n",
      "\n"
     ]
    },
    {
     "data": {
      "image/png": "[encoded data removed]",
      "text/plain": [
       "<matplotlib.figure.Figure at 0x7f473346ce80>"
      ]
     },
     "metadata": {
      "needs_background": "light"
     },
     "output_type": "display_data"
    }
   ],
   "source": [
    "#computing the length of the music split by churn\n",
    "strsql=\"select churn,round(sum(length)/count(distinct userId),2) as length from view_event_data2\\\n",
    "          where page = 'NextSong' GROUP BY  churn\"\n",
    "df_spark_length,df_pandas_length=spark_feature_queries(strsql)\n",
    "df_spark_length.show()\n",
    "plot_graph(\"distribution of churn by length of the song\",df_pandas_length,'dark')\n",
    "\n",
    "\n",
    "#spark.sql(\"select * from view_length\").show()"
   ]
  },
  {
   "cell_type": "markdown",
   "metadata": {},
   "source": [
    "### Feature Add to playlist"
   ]
  },
  {
   "cell_type": "code",
   "execution_count": 35,
   "metadata": {},
   "outputs": [
    {
     "name": "stdout",
     "output_type": "stream",
     "text": [
      "+-----+--------+\n",
      "|churn|playlist|\n",
      "+-----+--------+\n",
      "|    0|   33.26|\n",
      "|    1|   20.76|\n",
      "+-----+--------+\n",
      "\n"
     ]
    },
    {
     "data": {
      "image/png": "[encoded data removed]",
      "text/plain": [
       "<matplotlib.figure.Figure at 0x7f47371d9ac8>"
      ]
     },
     "metadata": {
      "needs_background": "light"
     },
     "output_type": "display_data"
    }
   ],
   "source": [
    "#computing churn split by add to playlist\n",
    "strsql=\"SELECT churn,round(count(1)/count(DISTINCT userId),2)  as playlist FROM view_event_data2\\\n",
    "                        WHERE page ='Add to Playlist' GROUP BY churn\"\n",
    "df_spark_playlist,df_pandas_playlist=spark_feature_queries(strsql)\n",
    "df_spark_playlist.show()\n",
    "plot_graph(\"distribution of churn by add to play list\",df_pandas_playlist,'dark')\n",
    "\n",
    "\n",
    "#spark.sql(\"select * from view_playlist\").show()"
   ]
  },
  {
   "cell_type": "code",
   "execution_count": 35,
   "metadata": {},
   "outputs": [
    {
     "name": "stdout",
     "output_type": "stream",
     "text": [
      "user views created\n"
     ]
    }
   ],
   "source": [
    "#creating views for the final data model\n",
    "strsql=\"select distinct userid,churn from view_event_data2\"\n",
    "spark.sql(strsql).createOrReplaceTempView('view_churn')\n",
    "strsql=\"select distinct userid from view_event_data2\"\n",
    "spark.sql(strsql).createOrReplaceTempView('view_users')\n",
    "\n",
    "spark.sql(\"SELECT DISTINCT(userId),count(song) as song_count FROM view_event_data2\\\n",
    "       GROUP BY userId\").createOrReplaceTempView('view_songs');\n",
    "\n",
    "spark.sql(\"SELECT DISTINCT(userId),count(1)/count(DISTINCT userId) AS Friends FROM view_event_data2\\\n",
    "        WHERE page = 'Add Friend' GROUP BY userId\").createOrReplaceTempView('view_addfriend');\n",
    "\n",
    "spark.sql(\"SELECT DISTINCT(userId),count(1)/count(DISTINCT userId) AS Downgrade FROM view_event_data2\\\n",
    "                        WHERE page ='Downgrade' GROUP BY userId\").createOrReplaceTempView('view_downgrade');\n",
    "\n",
    "spark.sql(\"SELECT DISTINCT(userId),count(1)/count(DISTINCT userId) AS level_paid FROM view_event_data2\\\n",
    "                    WHERE level = 'paid' GROUP BY userId\").createOrReplaceTempView('view_level_paid');\n",
    "\n",
    "spark.sql(\"SELECT DISTINCT(userId),count(1)/count(DISTINCT userId) AS level_free FROM view_event_data2\\\n",
    "                    WHERE level = 'free' GROUP BY userId\").createOrReplaceTempView('view_level_free');\n",
    "\n",
    "spark.sql(\"SELECT DISTINCT(userId),round(count(1)/count(DISTINCT userId),2) as help FROM view_event_data2\\\n",
    "                        WHERE page ='Help' GROUP BY userId\").createOrReplaceTempView('view_help');\n",
    "\n",
    "spark.sql(\"SELECT DISTINCT(userId),round(count(1)/count(DISTINCT userId),2) AS Thumpsup \\\n",
    "    FROM view_event_data2 WHERE page = 'Thumbs Up' GROUP BY userId\").createOrReplaceTempView('view_thumpsup');\n",
    "\n",
    "spark.sql(\"SELECT DISTINCT(userId),round(count(1)/count(DISTINCT userId),2) AS Upgrade \\\n",
    "    FROM view_event_data2 WHERE page = 'Submit Upgrade' GROUP BY userId\").createOrReplaceTempView('view_upgrade');\n",
    "\n",
    "spark.sql(\"SELECT DISTINCT(userId),round(avg(distinct sessionId),2) as sessions FROM view_event_data2 group\\\n",
    "                            by userId\").createOrReplaceTempView('view_sessions');\n",
    "\n",
    "spark.sql(\"SELECT DISTINCT(userId),case when gender='F' then 0 \\\n",
    "                            else 1 end as gender_count FROM view_event_data2\").createOrReplaceTempView('view_gender');\n",
    "\n",
    "spark.sql(\"select distinct(userId),round(sum(nvl(length, 0)),2) as length FROM view_event_data2\\\n",
    "                              where page = 'NextSong' GROUP BY userId\").createOrReplaceTempView('view_length');\n",
    "\n",
    "spark.sql(\"select DISTINCT(userId),round(count(1)/count(DISTINCT userId),2) as playlist FROM view_event_data2\\\n",
    "            WHERE page ='Add to Playlist' GROUP BY userId\").createOrReplaceTempView('view_playlist');\n",
    "\n",
    "print('user views created')"
   ]
  },
  {
   "cell_type": "code",
   "execution_count": 36,
   "metadata": {},
   "outputs": [
    {
     "name": "stdout",
     "output_type": "stream",
     "text": [
      "total rows = 225\n",
      "total columns = 13\n",
      "column names = ['userId', 'churn', 'Friends', 'Downgrade', 'level_free', 'level_paid', 'help', 'Thumpsup', 'sessions', 'gender_count', 'length', 'playlist', 'song_count']\n",
      "+------+-----+-------+---------+----------+----------+----+--------+--------+------------+----------+--------+----------+\n",
      "|userId|churn|Friends|Downgrade|level_free|level_paid|help|Thumpsup|sessions|gender_count|    length|playlist|song_count|\n",
      "+------+-----+-------+---------+----------+----------+----+--------+--------+------------+----------+--------+----------+\n",
      "|100010|    0|    4.0|     null|     381.0|      null| 2.0|    17.0|  119.14|           0|   66940.9|     7.0|       275|\n",
      "|200002|    0|    4.0|      5.0|     120.0|     354.0| 2.0|    21.0|   117.0|           1|  94008.88|     8.0|       387|\n",
      "|   125|    1|   null|     null|      11.0|      null|null|    null|   174.0|           1|   2089.11|    null|         8|\n",
      "|    51|    1|   28.0|     23.0|      null|    2464.0|12.0|   100.0|   640.3|           1| 523275.84|    52.0|      2111|\n",
      "|   124|    0|   74.0|     41.0|      null|    4825.0|23.0|   171.0| 1394.34|           0|1012312.09|   118.0|      4079|\n",
      "+------+-----+-------+---------+----------+----------+----+--------+--------+------------+----------+--------+----------+\n",
      "only showing top 5 rows\n",
      "\n"
     ]
    }
   ],
   "source": [
    "#creating a summary query to create a data frame for the input to ml\n",
    "strsql=\"\"\n",
    "strsql=\"select a.userId,m.churn,b.Friends,c.Downgrade,d.level_free,e.level_paid,f.help,g.Thumpsup\"\n",
    "strsql=strsql + \",h.sessions,i.gender_count,k.length,l.playlist,n.song_count from view_users as a left outer join\"\n",
    "strsql=strsql + \" view_addfriend as b on a.userid=b.userid left outer join\"\n",
    "strsql=strsql + \" view_downgrade as c on a.userid=c.userId  left outer join\"\n",
    "strsql=strsql + \" view_level_free as d on a.userid=d.userId  left outer join\"\n",
    "strsql=strsql + \" view_level_paid as e on a.userid=e.userId  left outer join\"\n",
    "strsql=strsql + \" view_help as f on a.userid=f.userId  left outer join\"\n",
    "strsql=strsql + \" view_thumpsup as g on a.userid=g.userId  left outer join\"\n",
    "strsql=strsql + \" view_sessions as h on a.userid=h.userId  left outer join\"\n",
    "strsql=strsql + \" view_gender as i on a.userid=i.userId  left outer join\"\n",
    "strsql=strsql + \" view_length as k on a.userid=k.userId  left outer join\"\n",
    "strsql=strsql + \" view_playlist as l on a.userid=l.userId  left outer join\"\n",
    "strsql=strsql + \" view_churn as m on a.userid=m.userId left outer join\"\n",
    "strsql=strsql + \" view_songs as n on a.userid=n.userId\"\n",
    "\n",
    "#print(strsql)\n",
    "spark.sql(strsql).createOrReplaceTempView('view_user_aggregates')\n",
    "df_spark_usr_aggregates=spark.sql(\"select * from view_user_aggregates\")\n",
    "\n",
    "print('total rows =', df_spark_usr_aggregates.count())\n",
    "print('total columns =', len(df_spark_usr_aggregates.columns))\n",
    "print('column names =',df_spark_usr_aggregates.columns)\n",
    "spark.sql(\"select * from view_user_aggregates\").show(5)"
   ]
  },
  {
   "cell_type": "code",
   "execution_count": 37,
   "metadata": {},
   "outputs": [
    {
     "name": "stdout",
     "output_type": "stream",
     "text": [
      "root\n",
      " |-- userId: string (nullable = true)\n",
      " |-- churn: long (nullable = true)\n",
      " |-- Friends: double (nullable = true)\n",
      " |-- Downgrade: double (nullable = true)\n",
      " |-- level_free: double (nullable = true)\n",
      " |-- level_paid: double (nullable = true)\n",
      " |-- help: double (nullable = true)\n",
      " |-- Thumpsup: double (nullable = true)\n",
      " |-- sessions: double (nullable = true)\n",
      " |-- gender_count: integer (nullable = true)\n",
      " |-- length: double (nullable = true)\n",
      " |-- playlist: double (nullable = true)\n",
      " |-- song_count: long (nullable = true)\n",
      "\n"
     ]
    }
   ],
   "source": [
    "df_spark_usr_aggregates.printSchema()"
   ]
  },
  {
   "cell_type": "code",
   "execution_count": 38,
   "metadata": {},
   "outputs": [
    {
     "data": {
      "text/plain": [
       "userId           0\n",
       "churn            0\n",
       "sessions         0\n",
       "gender_count     0\n",
       "length           0\n",
       "song_count       0\n",
       "Thumpsup         5\n",
       "playlist        10\n",
       "Friends         19\n",
       "level_free      30\n",
       "help            33\n",
       "level_paid      60\n",
       "Downgrade       71\n",
       "dtype: int64"
      ]
     },
     "execution_count": 38,
     "metadata": {},
     "output_type": "execute_result"
    }
   ],
   "source": [
    "df_pandas_features=spark.sql(\"select * from view_user_aggregates\").toPandas()\n",
    "df_pandas_features.isnull().sum().sort_values()"
   ]
  },
  {
   "cell_type": "code",
   "execution_count": 39,
   "metadata": {},
   "outputs": [
    {
     "name": "stdout",
     "output_type": "stream",
     "text": [
      "+------+--------+------+----------+--------+--------+-------+----------+----+----------+---------+-----+-----+\n",
      "|userid|sessions|gender|    length|thumpsup|playlist|friends|level_free|help|level_paid|downgrade|songs|label|\n",
      "+------+--------+------+----------+--------+--------+-------+----------+----+----------+---------+-----+-----+\n",
      "|100010|  119.14|     0|   66940.9|    17.0|     7.0|    4.0|     381.0| 2.0|       0.0|      0.0|  275|    0|\n",
      "|200002|   117.0|     1|  94008.88|    21.0|     8.0|    4.0|     120.0| 2.0|     354.0|      5.0|  387|    0|\n",
      "|   125|   174.0|     1|   2089.11|     0.0|     0.0|    0.0|      11.0| 2.0|       0.0|      0.0|    8|    1|\n",
      "|    51|   640.3|     1| 523275.84|   100.0|    52.0|   28.0|       0.0|12.0|    2464.0|     23.0| 2111|    1|\n",
      "|   124| 1394.34|     0|1012312.09|   171.0|   118.0|   74.0|       0.0|23.0|    4825.0|     41.0| 4079|    0|\n",
      "+------+--------+------+----------+--------+--------+-------+----------+----+----------+---------+-----+-----+\n",
      "only showing top 5 rows\n",
      "\n",
      "userid        0\n",
      "sessions      0\n",
      "gender        0\n",
      "length        0\n",
      "thumpsup      0\n",
      "playlist      0\n",
      "friends       0\n",
      "level_free    0\n",
      "help          0\n",
      "level_paid    0\n",
      "downgrade     0\n",
      "songs         0\n",
      "label         0\n",
      "dtype: int64\n"
     ]
    }
   ],
   "source": [
    "#replacing null values\n",
    "strsql=\"SELECT nvl(userid,0) as userid ,nvl(sessions,0) as sessions,nvl(gender_count,0) as gender,nvl(length,0) as length,\"\n",
    "strsql=strsql+\"nvl(thumpsup,0) as thumpsup,nvl(playlist,0) as playlist,\"\n",
    "strsql=strsql+\"nvl(friends,0) as friends,nvl(level_free,0) as level_free,nvl(help,2) as help,\"\n",
    "strsql=strsql+\"nvl(level_paid,0) as level_paid,nvl(downgrade,0) as downgrade,nvl(song_count,0) as songs,\"\n",
    "strsql=strsql+\"nvl(churn,0) as label FROM view_user_aggregates\"\n",
    "#print(strsql)\n",
    "#creating feature table after handling nulls\n",
    "\n",
    "view_user_features_ml=spark.sql(strsql)\n",
    "view_user_features_ml.createOrReplaceTempView('view_user_features_ml')\n",
    "spark.sql('select * from view_user_features_ml').show(5)\n",
    "print(spark.sql(strsql).toPandas().isnull().sum())"
   ]
  },
  {
   "cell_type": "markdown",
   "metadata": {},
   "source": [
    "### Correlation analysis\n",
    "Length,thumbsup,playlists, friends, downgrade and songs higher corrlation and others fields have poor correlation"
   ]
  },
  {
   "cell_type": "code",
   "execution_count": 42,
   "metadata": {},
   "outputs": [
    {
     "data": {
      "text/plain": [
       "<matplotlib.axes._subplots.AxesSubplot at 0x7f473ce37da0>"
      ]
     },
     "execution_count": 42,
     "metadata": {},
     "output_type": "execute_result"
    },
    {
     "data": {
      "image/png": "[encoded data removed]",
      "text/plain": [
       "<matplotlib.figure.Figure at 0x7f473ce37d68>"
      ]
     },
     "metadata": {
      "needs_background": "light"
     },
     "output_type": "display_data"
    }
   ],
   "source": [
    "#analyising the correlation metrcis\n",
    "plt.figure(figsize=(10,10))\n",
    "plt.title('Correlation metrics', y=1.05, size=15)\n",
    "sns.heatmap(view_user_features_ml.toPandas().corr(),linewidths=0.1,vmax=1.0, \n",
    "            square=True, cmap=plt.cm.inferno, linecolor='white', annot=True)"
   ]
  },
  {
   "cell_type": "code",
   "execution_count": 40,
   "metadata": {},
   "outputs": [
    {
     "name": "stdout",
     "output_type": "stream",
     "text": [
      "file saved\n"
     ]
    }
   ],
   "source": [
    "#saving the data to csv file\n",
    "filename = \"sparkify_save_data1.csv\"\n",
    "try:\n",
    "    os.remove(filename)\n",
    "except:\n",
    "    print(\"file does not exists\")\n",
    "df_save=spark.sql('select * from view_user_features_ml')\n",
    "df_save.toPandas().to_csv(filename)\n",
    "print('file saved')"
   ]
  },
  {
   "cell_type": "markdown",
   "metadata": {},
   "source": [
    "# Modeling\n",
    "Split the full dataset into train, test, and validation sets. Test out several of the machine learning methods you learned. Evaluate the accuracy of the various models, tuning parameters as necessary. Determine your winning model based on test accuracy and report results on the validation set. Since the churned users are a fairly small subset, I suggest using F1 score as the metric to optimize."
   ]
  },
  {
   "cell_type": "code",
   "execution_count": 41,
   "metadata": {},
   "outputs": [
    {
     "name": "stdout",
     "output_type": "stream",
     "text": [
      "+---+------+--------+------+----------+--------+--------+-------+----------+----+----------+---------+-----+-----+\n",
      "|_c0|userid|sessions|gender|    length|thumpsup|playlist|friends|level_free|help|level_paid|downgrade|songs|label|\n",
      "+---+------+--------+------+----------+--------+--------+-------+----------+----+----------+---------+-----+-----+\n",
      "|  0|100010|  119.14|     0|   66940.9|    17.0|     7.0|    4.0|     381.0| 2.0|       0.0|      0.0|  275|    0|\n",
      "|  1|200002|   117.0|     1|  94008.88|    21.0|     8.0|    4.0|     120.0| 2.0|     354.0|      5.0|  387|    0|\n",
      "|  2|   125|   174.0|     1|   2089.11|     0.0|     0.0|    0.0|      11.0| 2.0|       0.0|      0.0|    8|    1|\n",
      "|  3|    51|   640.3|     1| 523275.84|   100.0|    52.0|   28.0|       0.0|12.0|    2464.0|     23.0| 2111|    1|\n",
      "|  4|   124| 1394.34|     0|1012312.09|   171.0|   118.0|   74.0|       0.0|23.0|    4825.0|     41.0| 4079|    0|\n",
      "+---+------+--------+------+----------+--------+--------+-------+----------+----+----------+---------+-----+-----+\n",
      "only showing top 5 rows\n",
      "\n"
     ]
    }
   ],
   "source": [
    "df_features_ml = spark.read.csv(filename, header=True)\n",
    "df_features_ml.persist()\n",
    "df_features_ml.show(5)"
   ]
  },
  {
   "cell_type": "code",
   "execution_count": 42,
   "metadata": {},
   "outputs": [
    {
     "name": "stdout",
     "output_type": "stream",
     "text": [
      "model created\n"
     ]
    }
   ],
   "source": [
    "#ML models and pipe line creation\n",
    "vector_assembler = VectorAssembler(inputCols=[\"sessions\",\"gender\",\"length\",\"downgrade\",\\\n",
    "                                       \"friends\",\"level_paid\",\"level_free\",\"thumpsup\",\"songs\"],\\\n",
    "                            outputCol=\"inputFeatures\")\n",
    "\n",
    "#Lets normalize data\n",
    "normalizer = Normalizer(inputCol=\"inputFeatures\", outputCol=\"ScaledFeatures\");\n",
    "print(\"model created\")\n"
   ]
  },
  {
   "cell_type": "code",
   "execution_count": 43,
   "metadata": {},
   "outputs": [
    {
     "name": "stdout",
     "output_type": "stream",
     "text": [
      "model added\n"
     ]
    }
   ],
   "source": [
    "#model creation\n",
    "model_lr = LogisticRegression(featuresCol=\"ScaledFeatures\", labelCol=\"label\", maxIter=10, regParam=0.05)\n",
    "model_rf = RandomForestClassifier(featuresCol=\"ScaledFeatures\", labelCol=\"label\")\n",
    "model_gbt = GBTClassifier(featuresCol=\"ScaledFeatures\", labelCol=\"label\")\n",
    "model_nv = NaiveBayes(featuresCol=\"ScaledFeatures\", labelCol=\"label\")\n",
    "model_dt = DecisionTreeClassifier(featuresCol=\"ScaledFeatures\", labelCol=\"label\")\n",
    "\n",
    "print('model added')"
   ]
  },
  {
   "cell_type": "code",
   "execution_count": 44,
   "metadata": {},
   "outputs": [
    {
     "name": "stdout",
     "output_type": "stream",
     "text": [
      "pipeline created\n"
     ]
    }
   ],
   "source": [
    "#Create Pipeline\n",
    "pipeline_lr = Pipeline(stages=[vector_assembler, normalizer, model_lr]);\n",
    "pipeline_rf = Pipeline(stages=[vector_assembler, normalizer, model_rf]);\n",
    "pipeline_gbt = Pipeline(stages=[vector_assembler, normalizer, model_gbt])\n",
    "pipeline_nv = Pipeline(stages=[vector_assembler, normalizer, model_nv])\n",
    "pipeline_dt = Pipeline(stages=[vector_assembler, normalizer, model_dt])\n",
    "print('pipeline created')"
   ]
  },
  {
   "cell_type": "code",
   "execution_count": 45,
   "metadata": {},
   "outputs": [
    {
     "name": "stdout",
     "output_type": "stream",
     "text": [
      "dataset created\n"
     ]
    }
   ],
   "source": [
    "# spilt data for Train and test \n",
    "df_features=df_features_ml.select(\"sessions\",\"gender\",\"length\",\"downgrade\",\"friends\",\"level_paid\",\"level_free\",\"thumpsup\",\"songs\",\"label\")\n",
    "df_features = df_features.withColumn(\"sessions\", df_features[\"sessions\"].cast(IntegerType()))\n",
    "#df_features = df_features.withColumn(\"playlist\", df_features[\"playlist\"].cast(IntegerType()))\n",
    "df_features = df_features.withColumn(\"length\", df_features[\"length\"].cast(IntegerType()))\n",
    "df_features = df_features.withColumn(\"downgrade\", df_features[\"downgrade\"].cast(IntegerType()))\n",
    "df_features = df_features.withColumn(\"friends\", df_features[\"friends\"].cast(IntegerType()))\n",
    "df_features = df_features.withColumn(\"level_paid\", df_features[\"level_paid\"].cast(IntegerType()))\n",
    "df_features = df_features.withColumn(\"level_free\", df_features[\"level_free\"].cast(IntegerType()))\n",
    "df_features = df_features.withColumn(\"gender\", df_features[\"gender\"].cast(IntegerType()))\n",
    "df_features = df_features.withColumn(\"thumpsup\", df_features[\"thumpsup\"].cast(IntegerType()))\n",
    "df_features = df_features.withColumn(\"songs\", df_features[\"songs\"].cast(IntegerType()))\n",
    "df_features = df_features.withColumn(\"label\", df_features[\"label\"].cast(IntegerType()))\n",
    "\n",
    "\n",
    "\n",
    "training, test = df_features.randomSplit([0.8, 0.2]);\n",
    "print('dataset created')"
   ]
  },
  {
   "cell_type": "code",
   "execution_count": 47,
   "metadata": {},
   "outputs": [
    {
     "name": "stdout",
     "output_type": "stream",
     "text": [
      "models executed\n"
     ]
    }
   ],
   "source": [
    "#fitting the model\n",
    "model_lr_fitted = pipeline_lr.fit(training);\n",
    "model_rf_fitted = pipeline_rf.fit(training);\n",
    "model_gbt_fitted = pipeline_gbt.fit(training)\n",
    "model_nv_fitted = pipeline_nv.fit(training)\n",
    "model_dt_fitted = pipeline_dt.fit(training)\n",
    "print('models executed')\n"
   ]
  },
  {
   "cell_type": "code",
   "execution_count": 48,
   "metadata": {},
   "outputs": [
    {
     "name": "stdout",
     "output_type": "stream",
     "text": [
      "LogisticRegression  - Accuracy = 0.8 , F1-Score =  0.73\n",
      "RandomForest  - Accuracy = 0.82 , F1-Score =  0.78\n",
      "GBTClassifier  - Accuracy = 0.85 , F1-Score =  0.83\n",
      "NaiveBayes  - Accuracy = 0.78 , F1-Score =  0.68\n",
      "DecisionTreeClassifier  - Accuracy = 0.82 , F1-Score =  0.8\n"
     ]
    }
   ],
   "source": [
    "def accuracy_f1(modelname,model, test_data):\n",
    "    \"\"\" \n",
    "    This function computes the accuracy and f1 scores using MulticlassClassificationEvaluator\n",
    "        Parameters :\n",
    "        -------------------\n",
    "            modelname- name of the model\n",
    "            model- trained model\n",
    "            test_data - test data for computation of accuracy and F1 scores\n",
    "        Return values:\n",
    "            None\n",
    "    \"\"\"\n",
    "    #accuracy computation\n",
    "    eval_accuracy = MulticlassClassificationEvaluator(metricName = 'accuracy')\n",
    "    predic_accuracy = model.transform(test_data)\n",
    "    accuracy = eval_accuracy.evaluate(predic_accuracy)\n",
    "    accuracy=round(accuracy,2)\n",
    "  \n",
    "    #F1 score computation\n",
    "    eval_f1 = MulticlassClassificationEvaluator(metricName = 'f1')\n",
    "    prediction_f1 = model.transform(test_data)\n",
    "    f1_score = eval_f1.evaluate(prediction_f1)\n",
    "    f1_score=round(f1_score,2)\n",
    "    print(modelname, ' - Accuracy =',accuracy,', F1-Score = ',f1_score)\n",
    "    \n",
    "    return None\n",
    "\n",
    "accuracy_f1('LogisticRegression',model_lr_fitted, test);\n",
    "accuracy_f1('RandomForest',model_rf_fitted, test);\n",
    "accuracy_f1('GBTClassifier',model_gbt_fitted, test);\n",
    "accuracy_f1('NaiveBayes',model_nv_fitted, test);\n",
    "accuracy_f1('DecisionTreeClassifier',model_dt_fitted, test);"
   ]
  },
  {
   "cell_type": "markdown",
   "metadata": {},
   "source": [
    "### Conclusion\n",
    "In this project the sparkify logs data has been explored by considering 12 features. The basic goal of this analysis is to \n",
    "\n",
    "identify the churned users. The features used for the data exploration and modelling are count of songs played, length of \n",
    "\n",
    "the songs, add friend, downgrade, upgrade, playlist, level paid, level free, help and sessions. Churn will be the labeled \n",
    "\n",
    "column. \n",
    "\n",
    "The data has been explored through the spark sql and pandas has been used for plotting bar graphs. The spark ml has been used \n",
    "\n",
    "for the ml modules and pipeline creation. The data model has been tested with five  modules algorithms  LogisticRegression, \n",
    "\n",
    "RandomForest, GBTClassifer, NaiveBayes and DecisionTreeClassifier.  GBT Classifer has given highest accuracy of 85% and F1 \n",
    "\n",
    "score of 83%.\n",
    "\n",
    "By identifying the churning customers, the companies can focus on promotional activities like access to more content, \n",
    "\n",
    "incentives and extension of the validity period etc.\n",
    "\n",
    "### Reflections\n",
    "\n",
    "Working on this project has been a great experience. The spark sql is very easy to use and spark ml modules provide most of the \n",
    "\n",
    "libraries learned in the previous chapters like sklearn. I have gained good experience working in this project.The availability \n",
    "\n",
    "of spark cluster through jupyter notebook is really helpful as setting up of local cluster on the laptop is very difficult. \n",
    "\n",
    "\n",
    "\n",
    "### Improvements\n",
    "\n",
    "There is a good potential for extracting more features through the fields like user agent, method, status, timestamp etc.More \n",
    "\n",
    "deeper analysis can be done through these fields. Text processing tools like nltk can used to extract the OS, browser details \n",
    "\n",
    "etc. \n",
    "\n"
   ]
  },
  {
   "cell_type": "markdown",
   "metadata": {},
   "source": [
    "# Final Steps\n",
    "Clean up your code, adding comments and renaming variables to make the code easier to read and maintain. Refer to the Spark Project Overview page and Data Scientist Capstone Project Rubric to make sure you are including all components of the capstone project and meet all expectations. Remember, this includes thorough documentation in a README file in a Github repository, as well as a web app or blog post."
   ]
  },
  {
   "cell_type": "code",
   "execution_count": null,
   "metadata": {},
   "outputs": [],
   "source": []
  }
 ],
 "metadata": {
  "kernelspec": {
   "display_name": "Python 3",
   "language": "python",
   "name": "python3"
  },
  "language_info": {
   "codemirror_mode": {
    "name": "ipython",
    "version": 3
   },
   "file_extension": ".py",
   "mimetype": "text/x-python",
   "name": "python",
   "nbconvert_exporter": "python",
   "pygments_lexer": "ipython3",
   "version": "3.6.3"
  }
 },
 "nbformat": 4,
 "nbformat_minor": 2
}
